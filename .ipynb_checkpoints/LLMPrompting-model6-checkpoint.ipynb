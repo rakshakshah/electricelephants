{
 "cells": [
  {
   "cell_type": "code",
   "execution_count": 2,
   "id": "fad3058c-8949-49f3-95f0-aa3d11dc012c",
   "metadata": {},
   "outputs": [],
   "source": [
    "import os\n",
    "import requests\n",
    "import base64\n",
    "import json\n",
    "from dotenv import load_dotenv\n",
    "load_dotenv()\n",
    "\n",
    "def get_spotify_access_token():\n",
    "    \"\"\"\n",
    "    Retrieves an access token from Spotify using the Client Credentials Flow.\n",
    "    Make sure that SPOTIFY_CLIENT_ID and SPOTIFY_CLIENT_SECRET are set in your environment.\n",
    "    \"\"\"\n",
    "    client_id = os.getenv(\"SPOTIFY_CLIENT_ID\")\n",
    "    client_secret = os.getenv(\"SPOTIFY_CLIENT_SECRET\")\n",
    "\n",
    "    if not client_id or not client_secret:\n",
    "        raise Exception(\"Spotify credentials not found in environment variables.\")\n",
    "\n",
    "    # Create a Base64-encoded string from 'client_id:client_secret'\n",
    "    auth_str = f\"{client_id}:{client_secret}\"\n",
    "    b64_auth_str = base64.b64encode(auth_str.encode()).decode()\n",
    "\n",
    "    token_url = \"https://accounts.spotify.com/api/token\"\n",
    "    headers = {\n",
    "        \"Authorization\": f\"Basic {b64_auth_str}\",\n",
    "        \"Content-type\": \"application/x-www-form-urlencoded\"\n",
    "    }\n",
    "    data = {\n",
    "        \"grant_type\": \"client_credentials\"\n",
    "    }\n",
    "\n",
    "    response = requests.post(token_url, headers=headers, data=data)\n",
    "    if response.status_code != 200:\n",
    "        raise Exception(f\"Failed to get access token: {response.text}\")\n",
    "\n",
    "    token = response.json()[\"access_token\"]\n",
    "    return token"
   ]
  },
  {
   "cell_type": "code",
   "execution_count": 4,
   "id": "8d459fb4-0d0b-4772-9485-ecd84b8925fd",
   "metadata": {},
   "outputs": [],
   "source": [
    "def search_song_by_title(song_recommendation, token):\n",
    "    \"\"\"\n",
    "    Searches Spotify for a track matching the song recommendation.\n",
    "    Returns a dictionary with song title, artist(s), and a Spotify link.\n",
    "    \"\"\"\n",
    "    search_url = \"https://api.spotify.com/v1/search\"\n",
    "    headers = {\n",
    "        \"Authorization\": f\"Bearer {token}\"\n",
    "    }\n",
    "\n",
    "    params = {\n",
    "        \"q\": song_recommendation,\n",
    "        \"type\": \"track\",\n",
    "        \"limit\": 1\n",
    "    }\n",
    "\n",
    "    response = requests.get(search_url, headers=headers, params=params)\n",
    "\n",
    "    if response.status_code != 200:\n",
    "        print(\"Error searching Spotify\", response.text)\n",
    "        return None\n",
    "\n",
    "    data = response.json()\n",
    "    tracks = data.get(\"tracks\", {}).get(\"items\", [])\n",
    "    if not tracks:\n",
    "        print(\"No tracks found for the recommendation:\", song_recommendation)\n",
    "        return None\n",
    "\n",
    "    # Take the first track as the best match\n",
    "    track = tracks[0]\n",
    "    song_title = track.get(\"name\")\n",
    "    \n",
    "    # Get a comma-separated list of artist names\n",
    "    artists = [artist.get(\"name\") for artist in track.get(\"artists\", [])]\n",
    "    spotify_link = track.get(\"external_urls\", {}).get(\"spotify\")\n",
    "\n",
    "    # Get the album cover art\n",
    "    album_images = track.get(\"album\", {}).get(\"images\", [])\n",
    "    album_art_url = album_images[0]['url'] if album_images else None  # Highest resolution\n",
    "\n",
    "    return {\n",
    "        \"song_title\": song_title,\n",
    "        \"artist\": \", \".join(artists),\n",
    "        \"spotify_link\": spotify_link,\n",
    "        \"album_art\": album_art_url\n",
    "    }"
   ]
  },
  {
   "cell_type": "code",
   "execution_count": 5,
   "id": "951ce98c-47cf-47cd-a7ad-fe81cd2f2d0a",
   "metadata": {},
   "outputs": [
    {
     "name": "stdout",
     "output_type": "stream",
     "text": [
      "Access token acquired: BQDHB1Zr8ZLxozLTMNEa...\n"
     ]
    },
    {
     "ename": "NameError",
     "evalue": "name 'album_images' is not defined",
     "output_type": "error",
     "traceback": [
      "\u001b[31m---------------------------------------------------------------------------\u001b[39m",
      "\u001b[31mNameError\u001b[39m                                 Traceback (most recent call last)",
      "\u001b[36mCell\u001b[39m\u001b[36m \u001b[39m\u001b[32mIn[5]\u001b[39m\u001b[32m, line 10\u001b[39m\n\u001b[32m      7\u001b[39m \u001b[38;5;66;03m# Sample song to test\u001b[39;00m\n\u001b[32m      8\u001b[39m test_song = \u001b[33m\"\u001b[39m\u001b[33mШүрэн бугуйвч\u001b[39m\u001b[33m\"\u001b[39m\n\u001b[32m---> \u001b[39m\u001b[32m10\u001b[39m song_details = \u001b[43msearch_song_by_title\u001b[49m\u001b[43m(\u001b[49m\u001b[43mtest_song\u001b[49m\u001b[43m,\u001b[49m\u001b[43m \u001b[49m\u001b[43mtoken\u001b[49m\u001b[43m)\u001b[49m\n\u001b[32m     12\u001b[39m \u001b[38;5;28;01mif\u001b[39;00m song_details:\n\u001b[32m     13\u001b[39m     \u001b[38;5;28mprint\u001b[39m(\u001b[33m\"\u001b[39m\u001b[33mSong details:\u001b[39m\u001b[33m\"\u001b[39m)\n",
      "\u001b[36mCell\u001b[39m\u001b[36m \u001b[39m\u001b[32mIn[4]\u001b[39m\u001b[32m, line 36\u001b[39m, in \u001b[36msearch_song_by_title\u001b[39m\u001b[34m(song_recommendation, token)\u001b[39m\n\u001b[32m     34\u001b[39m artists = [artist.get(\u001b[33m\"\u001b[39m\u001b[33mname\u001b[39m\u001b[33m\"\u001b[39m) \u001b[38;5;28;01mfor\u001b[39;00m artist \u001b[38;5;129;01min\u001b[39;00m track.get(\u001b[33m\"\u001b[39m\u001b[33martists\u001b[39m\u001b[33m\"\u001b[39m, [])]\n\u001b[32m     35\u001b[39m spotify_link = track.get(\u001b[33m\"\u001b[39m\u001b[33mexternal_urls\u001b[39m\u001b[33m\"\u001b[39m, {}).get(\u001b[33m\"\u001b[39m\u001b[33mspotify\u001b[39m\u001b[33m\"\u001b[39m)\n\u001b[32m---> \u001b[39m\u001b[32m36\u001b[39m album_art_url = album_images[\u001b[32m0\u001b[39m][\u001b[33m'\u001b[39m\u001b[33murl\u001b[39m\u001b[33m'\u001b[39m] \u001b[38;5;28;01mif\u001b[39;00m \u001b[43malbum_images\u001b[49m \u001b[38;5;28;01melse\u001b[39;00m \u001b[38;5;28;01mNone\u001b[39;00m  \u001b[38;5;66;03m# Highest resolution\u001b[39;00m\n\u001b[32m     38\u001b[39m \u001b[38;5;28;01mreturn\u001b[39;00m {\n\u001b[32m     39\u001b[39m     \u001b[33m\"\u001b[39m\u001b[33msong_title\u001b[39m\u001b[33m\"\u001b[39m: song_title,\n\u001b[32m     40\u001b[39m     \u001b[33m\"\u001b[39m\u001b[33martist\u001b[39m\u001b[33m\"\u001b[39m: \u001b[33m\"\u001b[39m\u001b[33m, \u001b[39m\u001b[33m\"\u001b[39m.join(artists),\n\u001b[32m     41\u001b[39m     \u001b[33m\"\u001b[39m\u001b[33mspotify_link\u001b[39m\u001b[33m\"\u001b[39m: spotify_link,\n\u001b[32m     42\u001b[39m     \u001b[33m\"\u001b[39m\u001b[33malbum_art\u001b[39m\u001b[33m\"\u001b[39m: album_art_url\n\u001b[32m     43\u001b[39m }\n",
      "\u001b[31mNameError\u001b[39m: name 'album_images' is not defined"
     ]
    }
   ],
   "source": [
    "# Testing the function\n",
    "\n",
    "# 1st, get an access token using the helper func\n",
    "token = get_spotify_access_token()\n",
    "print(\"Access token acquired:\", token[:20] + \"...\") # print a snippet for confirmation\n",
    "\n",
    "# Sample song to test\n",
    "test_song = \"Шүрэн бугуйвч\"\n",
    "\n",
    "song_details = search_song_by_title(test_song, token)\n",
    "\n",
    "if song_details:\n",
    "    print(\"Song details:\")\n",
    "    print(json.dumps(song_details, indent=2))\n",
    "else:\n",
    "    print(\"No song details were found for:\", test_song)"
   ]
  },
  {
   "cell_type": "code",
   "execution_count": 8,
   "id": "0f6d747f-2293-4a48-80bc-dadfdf4865ed",
   "metadata": {},
   "outputs": [
    {
     "name": "stdout",
     "output_type": "stream",
     "text": [
      "Song details:\n",
      "{\n",
      "  \"song_title\": \"Bohemian Rhapsody - Remastered 2011\",\n",
      "  \"artist\": \"Queen\",\n",
      "  \"spotify_link\": \"https://open.spotify.com/track/7tFiyTwD0nx5a1eklYtX2J\"\n",
      "}\n"
     ]
    }
   ],
   "source": [
    "# Sample song to test\n",
    "test_song = \"Bohemian Rapsdy\"\n",
    "\n",
    "song_details = search_song_by_title(test_song, token)\n",
    "\n",
    "if song_details:\n",
    "    print(\"Song details:\")\n",
    "    print(json.dumps(song_details, indent=2))\n",
    "else:\n",
    "    print(\"No song details were found for:\", test_song)"
   ]
  },
  {
   "cell_type": "code",
   "execution_count": 9,
   "id": "964c5986-50c2-43f8-8e40-77704fdc3f51",
   "metadata": {},
   "outputs": [
    {
     "name": "stdout",
     "output_type": "stream",
     "text": [
      "Song details:\n",
      "{\n",
      "  \"song_title\": \"Buy U a Drank (Shawty Snappin') (feat. Yung Joc)\",\n",
      "  \"artist\": \"T-Pain, Yung Joc\",\n",
      "  \"spotify_link\": \"https://open.spotify.com/track/1tkMs9wDPknQ3ZHcKDw1ES\"\n",
      "}\n"
     ]
    }
   ],
   "source": [
    "# Sample song to test\n",
    "test_song = \"buy u a drink\"\n",
    "\n",
    "song_details = search_song_by_title(test_song, token)\n",
    "\n",
    "if song_details:\n",
    "    print(\"Song details:\")\n",
    "    print(json.dumps(song_details, indent=2))\n",
    "else:\n",
    "    print(\"No song details were found for:\", test_song)"
   ]
  },
  {
   "cell_type": "code",
   "execution_count": null,
   "id": "526e9cc5-f70c-45c6-ad53-9dafb5202b4a",
   "metadata": {},
   "outputs": [],
   "source": []
  }
 ],
 "metadata": {
  "kernelspec": {
   "display_name": "Python 3 (ipykernel)",
   "language": "python",
   "name": "python3"
  },
  "language_info": {
   "codemirror_mode": {
    "name": "ipython",
    "version": 3
   },
   "file_extension": ".py",
   "mimetype": "text/x-python",
   "name": "python",
   "nbconvert_exporter": "python",
   "pygments_lexer": "ipython3",
   "version": "3.13.0"
  }
 },
 "nbformat": 4,
 "nbformat_minor": 5
}
