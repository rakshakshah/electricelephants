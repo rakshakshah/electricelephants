{
 "cells": [
  {
   "cell_type": "code",
   "execution_count": 2,
   "id": "fad3058c-8949-49f3-95f0-aa3d11dc012c",
   "metadata": {},
   "outputs": [],
   "source": [
    "import os\n",
    "import requests\n",
    "import base64\n",
    "import json\n",
    "from dotenv import load_dotenv\n",
    "load_dotenv()\n",
    "\n",
    "def get_spotify_access_token():\n",
    "    \"\"\"\n",
    "    Retrieves an access token from Spotify using the Client Credentials Flow.\n",
    "    Make sure that SPOTIFY_CLIENT_ID and SPOTIFY_CLIENT_SECRET are set in your environment.\n",
    "    \"\"\"\n",
    "    client_id = os.getenv(\"SPOTIFY_CLIENT_ID\")\n",
    "    client_secret = os.getenv(\"SPOTIFY_CLIENT_SECRET\")\n",
    "\n",
    "    if not client_id or not client_secret:\n",
    "        raise Exception(\"Spotify credentials not found in environment variables.\")\n",
    "\n",
    "    # Create a Base64-encoded string from 'client_id:client_secret'\n",
    "    auth_str = f\"{client_id}:{client_secret}\"\n",
    "    b64_auth_str = base64.b64encode(auth_str.encode()).decode()\n",
    "\n",
    "    token_url = \"https://accounts.spotify.com/api/token\"\n",
    "    headers = {\n",
    "        \"Authorization\": f\"Basic {b64_auth_str}\",\n",
    "        \"Content-type\": \"application/x-www-form-urlencoded\"\n",
    "    }\n",
    "    data = {\n",
    "        \"grant_type\": \"client_credentials\"\n",
    "    }\n",
    "\n",
    "    response = requests.post(token_url, headers=headers, data=data)\n",
    "    if response.status_code != 200:\n",
    "        raise Exception(f\"Failed to get access token: {response.text}\")\n",
    "\n",
    "    token = response.json()[\"access_token\"]\n",
    "    return token"
   ]
  },
  {
   "cell_type": "code",
   "execution_count": 6,
   "id": "8d459fb4-0d0b-4772-9485-ecd84b8925fd",
   "metadata": {},
   "outputs": [],
   "source": [
    "def search_song_by_title(song_recommendation, token):\n",
    "    \"\"\"\n",
    "    Searches Spotify for a track matching the song recommendation.\n",
    "    Returns a dictionary with song title, artist(s), and a Spotify link.\n",
    "    \"\"\"\n",
    "    search_url = \"https://api.spotify.com/v1/search\"\n",
    "    headers = {\n",
    "        \"Authorization\": f\"Bearer {token}\"\n",
    "    }\n",
    "\n",
    "    params = {\n",
    "        \"q\": song_recommendation,\n",
    "        \"type\": \"track\",\n",
    "        \"limit\": 1\n",
    "    }\n",
    "\n",
    "    response = requests.get(search_url, headers=headers, params=params)\n",
    "\n",
    "    if response.status_code != 200:\n",
    "        print(\"Error searching Spotify\", response.text)\n",
    "        return None\n",
    "\n",
    "    data = response.json()\n",
    "    tracks = data.get(\"tracks\", {}).get(\"items\", [])\n",
    "    if not tracks:\n",
    "        print(\"No tracks found for the recommendation:\", song_recommendation)\n",
    "        return None\n",
    "\n",
    "    # Take the first track as the best match\n",
    "    track = tracks[0]\n",
    "    song_title = track.get(\"name\")\n",
    "    \n",
    "    # Get a comma-separated list of artist names\n",
    "    artists = [artist.get(\"name\") for artist in track.get(\"artists\", [])]\n",
    "    spotify_link = track.get(\"external_urls\", {}).get(\"spotify\")\n",
    "\n",
    "    # Get the album cover art (has 3 sizes: large, medium, small)\n",
    "    album_images = track.get(\"album\", {}).get(\"images\", [])\n",
    "    album_art_url = album_images[0]['url'] if album_images else None  # Highest resolution\n",
    "\n",
    "    return {\n",
    "        \"song_title\": song_title,\n",
    "        \"artist\": \", \".join(artists),\n",
    "        \"spotify_link\": spotify_link,\n",
    "        \"album_art\": album_art_url\n",
    "    }"
   ]
  },
  {
   "cell_type": "code",
   "execution_count": 7,
   "id": "951ce98c-47cf-47cd-a7ad-fe81cd2f2d0a",
   "metadata": {},
   "outputs": [
    {
     "name": "stdout",
     "output_type": "stream",
     "text": [
      "Access token acquired: BQDwPWc_Pm7pDu5yjL-S...\n",
      "Song details:\n",
      "{\n",
      "  \"song_title\": \"\\u0428\\u04af\\u0440\\u044d\\u043d \\u0411\\u0443\\u0433\\u0443\\u0439\\u0432\\u0447\",\n",
      "  \"artist\": \"Bayartsetseg, Amraa\",\n",
      "  \"spotify_link\": \"https://open.spotify.com/track/6ZSCn0ZFsmRLsNvBHOihP1\",\n",
      "  \"album_art\": \"https://i.scdn.co/image/ab67616d0000b2739344c68be65bc577694548b3\"\n",
      "}\n"
     ]
    }
   ],
   "source": [
    "# Testing the function\n",
    "\n",
    "# 1st, get an access token using the helper func\n",
    "token = get_spotify_access_token()\n",
    "print(\"Access token acquired:\", token[:20] + \"...\") # print a snippet for confirmation\n",
    "\n",
    "# Sample song to test\n",
    "test_song = \"Шүрэн бугуйвч\"\n",
    "\n",
    "song_details = search_song_by_title(test_song, token)\n",
    "\n",
    "if song_details:\n",
    "    print(\"Song details:\")\n",
    "    print(json.dumps(song_details, indent=2))\n",
    "else:\n",
    "    print(\"No song details were found for:\", test_song)"
   ]
  },
  {
   "cell_type": "code",
   "execution_count": 8,
   "id": "0f6d747f-2293-4a48-80bc-dadfdf4865ed",
   "metadata": {},
   "outputs": [
    {
     "name": "stdout",
     "output_type": "stream",
     "text": [
      "Song details:\n",
      "{\n",
      "  \"song_title\": \"Bohemian Rhapsody - Remastered 2011\",\n",
      "  \"artist\": \"Queen\",\n",
      "  \"spotify_link\": \"https://open.spotify.com/track/7tFiyTwD0nx5a1eklYtX2J\",\n",
      "  \"album_art\": \"https://i.scdn.co/image/ab67616d0000b273ce4f1737bc8a646c8c4bd25a\"\n",
      "}\n"
     ]
    }
   ],
   "source": [
    "# Sample song to test\n",
    "test_song = \"Bohemian Rapsdy\"\n",
    "\n",
    "song_details = search_song_by_title(test_song, token)\n",
    "\n",
    "if song_details:\n",
    "    print(\"Song details:\")\n",
    "    print(json.dumps(song_details, indent=2))\n",
    "else:\n",
    "    print(\"No song details were found for:\", test_song)"
   ]
  },
  {
   "cell_type": "code",
   "execution_count": 9,
   "id": "964c5986-50c2-43f8-8e40-77704fdc3f51",
   "metadata": {},
   "outputs": [
    {
     "name": "stdout",
     "output_type": "stream",
     "text": [
      "Song details:\n",
      "{\n",
      "  \"song_title\": \"Buy U a Drank (Shawty Snappin') (feat. Yung Joc)\",\n",
      "  \"artist\": \"T-Pain, Yung Joc\",\n",
      "  \"spotify_link\": \"https://open.spotify.com/track/1tkMs9wDPknQ3ZHcKDw1ES\",\n",
      "  \"album_art\": \"https://i.scdn.co/image/ab67616d0000b273baf2f329d4feeb19761eddf4\"\n",
      "}\n"
     ]
    }
   ],
   "source": [
    "# Sample song to test\n",
    "test_song = \"buy u a drink\"\n",
    "\n",
    "song_details = search_song_by_title(test_song, token)\n",
    "\n",
    "if song_details:\n",
    "    print(\"Song details:\")\n",
    "    print(json.dumps(song_details, indent=2))\n",
    "else:\n",
    "    print(\"No song details were found for:\", test_song)"
   ]
  },
  {
   "cell_type": "code",
   "execution_count": null,
   "id": "526e9cc5-f70c-45c6-ad53-9dafb5202b4a",
   "metadata": {},
   "outputs": [],
   "source": []
  }
 ],
 "metadata": {
  "kernelspec": {
   "display_name": "Python 3 (ipykernel)",
   "language": "python",
   "name": "python3"
  },
  "language_info": {
   "codemirror_mode": {
    "name": "ipython",
    "version": 3
   },
   "file_extension": ".py",
   "mimetype": "text/x-python",
   "name": "python",
   "nbconvert_exporter": "python",
   "pygments_lexer": "ipython3",
   "version": "3.13.0"
  }
 },
 "nbformat": 4,
 "nbformat_minor": 5
}
