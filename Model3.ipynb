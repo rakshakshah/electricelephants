{
 "cells": [
  {
   "cell_type": "code",
   "execution_count": 49,
   "id": "0a7e75af-d43f-4317-8e66-01c06af42b45",
   "metadata": {},
   "outputs": [],
   "source": [
    "import requests\n",
    "import json\n",
    "import pandas as pd\n",
    "from tqdm import tqdm\n",
    "\n",
    "# Function to analyze movie sentiment\n",
    "def analyze_movie_sentiment(movie_title, movie_description, model=\"deepseek-coder\"):\n",
    "    negative1 = \"sad\"\n",
    "    positive1 = \"happy\"\n",
    "    \"\"\"Analyze sentiment for a movie using Ollama models with system/prompt separation\"\"\"\n",
    "    \n",
    "    # Split into system instructions and user prompt\n",
    "    system = \"\"\"\n",
    "    You are a movie sentiment analyzer. When provided with a movie title and description please do the following in order:\n",
    "    \n",
    "    1. Evaluate the movie's script, main plot points, character dynamics, and character development. \n",
    "    2. Analyze the overall emotional tone and themes in the movie.\n",
    "    3. Think about the sentiment in terms of a scale between the two sentiment words. ONLY think of sentiment in terms of these two words: {negative1}, {positive1}.\n",
    "    4. Summarize your thoughts on the movie's sentiment in terms of the two sentiment words in less than 100 words\n",
    "    5. Assign a sentiment score between -1.0 (very sad) and 1.0 (very happy) with at least 4 decimal places.\n",
    "    \n",
    "    Do not include any other text, preamble, or commentary outside of the prompted JSON structure.\n",
    "    \"\"\"\n",
    "    \n",
    "    # The actual prompt is just the movie information\n",
    "    prompt = f\"\"\"Title: {movie_title}\n",
    "    Description: {movie_description}\n",
    "    Sentiment Words:{negative1}, {positive1}\n",
    "    Evaluate this movie and assign the movie a sentiment score between -1.0 (incredibly {negative1}) and 1.0 (incredibly {positive1})\n",
    "    Respond ONLY IMPORTANT: Respond ONLY with a valid JSON object with keys \"score\" and \"explanation\". \n",
    "    \"\"\"\n",
    "    \n",
    "    url = \"http://localhost:11434/api/generate\"\n",
    "    payload = {\n",
    "        \"model\": model,\n",
    "        \"system\": system,\n",
    "        \"prompt\": prompt,\n",
    "        \"stream\": False\n",
    "    }\n",
    "    \n",
    "    try:\n",
    "        response = requests.post(url, json=payload, stream=True)\n",
    "        # Print raw response for debugging\n",
    "        print(f\"Raw response status: {response.status_code}\")\n",
    "        print(f\"Raw response text: {response.text[:200]}...\")  # Print first 100 chars\n",
    "        \n",
    "        # Try to parse the response as JSON\n",
    "        try:\n",
    "            response_data = response.json()\n",
    "            print(f\"Successfully parsed JSON response\")\n",
    "            print(response_data)\n",
    "        except json.JSONDecodeError as e:\n",
    "            print(f\"JSON decode error: {e}\")\n",
    "            # Handle plain text response\n",
    "            response_data = {\"response\": response.text}\n",
    "            print(f\"Treating as plain text response\")\n",
    "    \n",
    "        # Extract the response text\n",
    "        response_text = response_data.get(\"response\", \"\")\n",
    "        print(response_text)\n",
    "        \n",
    "        # Try to find and parse JSON in the response text\n",
    "        sentiment_analysis = {\"score\": 0, \"explanation\": \"Failed to parse response\"}\n",
    "        try:\n",
    "            # Try to extract JSON object from text if present\n",
    "            if \"{\" in response_text and \"}\" in response_text:\n",
    "                print(\"it is present\")\n",
    "                start_idx = response_text.find(\"{\")\n",
    "                end_idx = response_text.rfind(\"}\") + 1\n",
    "                json_str = response_text[start_idx:end_idx]\n",
    "\n",
    "                \n",
    "                # Clean up potential issues in JSON string\n",
    "                # Replace single quotes with double quotes if needed\n",
    "                json_str = json_str.replace(\"'\", '\"')\n",
    "\n",
    "                print(\"json_str\")\n",
    "                print(json_str)\n",
    "                \n",
    "                sentiment_analysis = json.loads(json_str)\n",
    "                print(f\"Successfully extracted JSON from response text\")\n",
    "                print(sentiment_analysis)\n",
    "            else:\n",
    "                print(\"it is not present\")\n",
    "                # If no JSON found, try to estimate sentiment from text\n",
    "                print(f\"No JSON found in response, estimating sentiment\")\n",
    "                if \"positive\" in response_text.lower():\n",
    "                    score = 0.5\n",
    "                elif \"negative\" in response_text.lower():\n",
    "                    score = -0.5\n",
    "                else:\n",
    "                    score = 0\n",
    "                \n",
    "                sentiment_analysis = {\n",
    "                    \"score\": score,\n",
    "                    \"explanation\": response_text[:200]  # First 200 chars as explanation\n",
    "                }\n",
    "        except Exception as e:\n",
    "            print(f\"Error parsing sentiment: {e}\")\n",
    "            sentiment_analysis = {\n",
    "                \"score\": 0,\n",
    "                \"explanation\": f\"Error parsing response: {str(e)[:100]}\"\n",
    "            }\n",
    "    \n",
    "    except Exception as e:\n",
    "        print(f\"Request error: {e}\")\n",
    "        sentiment_analysis = {\n",
    "            \"score\": 0,\n",
    "            \"explanation\": f\"Error connecting to Ollama: {str(e)[:100]}\"\n",
    "        }\n",
    "    \n",
    "    # Return sentiment analysis results\n",
    "    return {\n",
    "        \"title\": movie_title,\n",
    "        \"sentiment_score\": sentiment_analysis.get(\"score\", 0),\n",
    "        \"explanation\": sentiment_analysis.get(\"explanation\", \"\")\n",
    "    }\n"
   ]
  },
  {
   "cell_type": "code",
   "execution_count": 50,
   "id": "9935c29e-b141-4b83-9b04-35ba74758771",
   "metadata": {},
   "outputs": [
    {
     "name": "stdout",
     "output_type": "stream",
     "text": [
      "Ollama server health check: 200\n",
      "Available models:\n",
      " - mistral:latest\n",
      " - deepseek-r1:1.5b\n",
      " - llama3.2:latest\n"
     ]
    },
    {
     "name": "stderr",
     "output_type": "stream",
     "text": [
      "100%|█████████████████████████████████████████████| 1/1 [00:31<00:00, 31.19s/it]"
     ]
    },
    {
     "name": "stdout",
     "output_type": "stream",
     "text": [
      "Raw response status: 200\n",
      "Raw response text: {\"model\":\"mistral\",\"created_at\":\"2025-03-16T18:26:31.781072Z\",\"response\":\" {\\n      \\\"score\\\": \\\"0.5234\\\",\\n      \\\"explanation\\\": \\\"The Shawshank Redemption exhibits strong character development and ...\n",
      "Successfully parsed JSON response\n",
      "{'model': 'mistral', 'created_at': '2025-03-16T18:26:31.781072Z', 'response': ' {\\n      \"score\": \"0.5234\",\\n      \"explanation\": \"The Shawshank Redemption exhibits strong character development and deep, meaningful relationships, which counterbalance the predominantly sad theme of incarceration. The emotional tone swings between despair and hope, ultimately offering a sense of redemption and happiness that earns it a relatively positive sentiment score.\"\\n   }', 'done': True, 'done_reason': 'stop', 'context': [3, 1027, 781, 3055, 1763, 1228, 1032, 6762, 22558, 10916, 4274, 29491, 2452, 4625, 1163, 1032, 6762, 4709, 1072, 6204, 5433, 1279, 1040, 3064, 1065, 2513, 29515, 781, 1028, 781, 1028, 29508, 29491, 24991, 12699, 1040, 6762, 29510, 29481, 7535, 29493, 2959, 10010, 4337, 29493, 4001, 16330, 29493, 1072, 4001, 4867, 29491, 29473, 781, 1028, 29518, 29491, 1862, 9678, 2142, 1040, 8312, 11294, 11062, 1072, 19746, 1065, 1040, 6762, 29491, 781, 1028, 29538, 29491, 16171, 1452, 1040, 22558, 1065, 4239, 1070, 1032, 6425, 2212, 1040, 1757, 22558, 3853, 29491, 10456, 10648, 1841, 1070, 22558, 1065, 4239, 1070, 1935, 1757, 3853, 29515, 1139, 24006, 29508, 1649, 1139, 1833, 3236, 29508, 2819, 781, 1028, 29549, 29491, 7695, 4247, 1421, 1342, 8171, 1124, 1040, 6762, 29510, 29481, 22558, 1065, 4239, 1070, 1040, 1757, 22558, 3853, 1065, 2876, 1589, 29473, 29508, 29502, 29502, 3853, 781, 1028, 29550, 29491, 4116, 1371, 1032, 22558, 8188, 2212, 1155, 29508, 29491, 29502, 1093, 1414, 8224, 29499, 1072, 29473, 29508, 29491, 29502, 1093, 1414, 5378, 29499, 1163, 1206, 3197, 29473, 29549, 26656, 6331, 29491, 781, 1028, 781, 3055, 3146, 1227, 3792, 1475, 1567, 3013, 29493, 1478, 1082, 1750, 29493, 1210, 5285, 1396, 4304, 1070, 1040, 12278, 1054, 10060, 5461, 29491, 781, 1028, 781, 781, 8290, 29515, 1183, 25257, 1579, 1746, 4458, 1134, 1536, 781, 3055, 10988, 29515, 6773, 24479, 1054, 2451, 10178, 1522, 1032, 2242, 1070, 2035, 29493, 8252, 2896, 1329, 1072, 2719, 1608, 3528, 1134, 1536, 1827, 12668, 1070, 4066, 2053, 2858, 29491, 781, 3055, 1086, 1076, 3255, 1162, 5086, 29515, 29481, 1084, 29493, 5378, 781, 3055, 24991, 12699, 1224, 6762, 1072, 12525, 1040, 6762, 1032, 22558, 8188, 2212, 1155, 29508, 29491, 29502, 1093, 2582, 1661, 5680, 8224, 29499, 1072, 29473, 29508, 29491, 29502, 1093, 2582, 1661, 5680, 5378, 29499, 781, 3055, 2760, 20339, 10456, 10648, 16115, 3702, 13506, 29515, 2760, 20339, 10456, 10648, 1163, 1032, 4484, 10060, 2696, 1163, 8916, 1113, 12599, 29507, 1072, 1113, 1488, 11777, 1120, 3354, 29473, 781, 1028, 4, 1027, 1139, 781, 1123, 1113, 12599, 2032, 1113, 29502, 29491, 29550, 29518, 29538, 29549, 1316, 781, 1123, 1113, 1488, 11777, 1120, 2032, 1113, 1782, 25257, 1579, 1746, 4458, 1134, 1536, 9012, 1814, 3735, 4001, 4867, 1072, 4302, 29493, 20026, 10159, 29493, 1458, 6341, 18792, 1040, 28051, 4986, 8224, 8103, 1070, 3026, 1051, 3510, 1120, 29491, 1183, 11294, 11062, 2487, 1510, 2212, 26245, 1072, 4085, 29493, 13433, 9823, 1032, 4135, 1070, 3528, 1134, 1536, 1072, 15847, 1137, 7152, 29481, 1146, 1032, 10870, 6046, 22558, 8188, 1379, 781, 1027, 1211], 'total_duration': 31000445041, 'load_duration': 23078375, 'prompt_eval_count': 328, 'prompt_eval_duration': 13202000000, 'eval_count': 88, 'eval_duration': 17711000000}\n",
      " {\n",
      "      \"score\": \"0.5234\",\n",
      "      \"explanation\": \"The Shawshank Redemption exhibits strong character development and deep, meaningful relationships, which counterbalance the predominantly sad theme of incarceration. The emotional tone swings between despair and hope, ultimately offering a sense of redemption and happiness that earns it a relatively positive sentiment score.\"\n",
      "   }\n",
      "it is present\n",
      "json_str\n",
      "{\n",
      "      \"score\": \"0.5234\",\n",
      "      \"explanation\": \"The Shawshank Redemption exhibits strong character development and deep, meaningful relationships, which counterbalance the predominantly sad theme of incarceration. The emotional tone swings between despair and hope, ultimately offering a sense of redemption and happiness that earns it a relatively positive sentiment score.\"\n",
      "   }\n",
      "Successfully extracted JSON from response text\n",
      "{'score': '0.5234', 'explanation': 'The Shawshank Redemption exhibits strong character development and deep, meaningful relationships, which counterbalance the predominantly sad theme of incarceration. The emotional tone swings between despair and hope, ultimately offering a sense of redemption and happiness that earns it a relatively positive sentiment score.'}\n",
      "\n",
      "Results:\n"
     ]
    },
    {
     "name": "stderr",
     "output_type": "stream",
     "text": [
      "\n"
     ]
    },
    {
     "name": "stdout",
     "output_type": "stream",
     "text": [
      "                      title sentiment_score  \\\n",
      "0  The Shawshank Redemption          0.5234   \n",
      "\n",
      "                                         explanation  \n",
      "0  The Shawshank Redemption exhibits strong chara...  \n"
     ]
    }
   ],
   "source": [
    "# Example usage\n",
    "if __name__ == \"__main__\":\n",
    "    # Sample movie data\n",
    "    movies = [\n",
    "        {\"title\": \"The Shawshank Redemption\", \"description\": \"Two imprisoned men bond over a number of years, finding solace and eventual redemption through acts of common decency.\"},\n",
    "        ]\n",
    "    movies = movies * 1\n",
    "    \n",
    "    # Choose model from Ollama (deepseek, mistral, etc.)\n",
    "    model = \"mistral\"  # Change to your preferred model\n",
    "    \n",
    "    # Check if Ollama server is responding\n",
    "    try:\n",
    "        health_check = requests.get(\"http://localhost:11434/api/tags\")\n",
    "        print(f\"Ollama server health check: {health_check.status_code}\")\n",
    "        if health_check.status_code == 200:\n",
    "            print(\"Available models:\")\n",
    "            for model_info in health_check.json().get(\"models\", []):\n",
    "                print(f\" - {model_info.get('name')}\")\n",
    "    except Exception as e:\n",
    "        print(f\"Warning: Couldn't connect to Ollama server: {e}\")\n",
    "        print(\"Make sure Ollama is running and listening on port 11434\")\n",
    "\n",
    "    results = []\n",
    "    for movie in tqdm(movies):\n",
    "        result = analyze_movie_sentiment(movie[\"title\"], movie[\"description\"], model)\n",
    "        results.append(result)\n",
    "    \n",
    "    # Create a DataFrame for better visualization\n",
    "    df = pd.DataFrame(results)\n",
    "    print(\"\\nResults:\")\n",
    "    print(df[[\"title\", \"sentiment_score\", \"explanation\"]])\n",
    "    \n",
    "    # You can save the results for future use\n",
    "    df.to_json(\"movie_sentiment_analysis.json\", orient=\"records\")"
   ]
  },
  {
   "cell_type": "code",
   "execution_count": 46,
   "id": "4664bc38-86ba-40cf-9d93-2b6d8b7ef3a8",
   "metadata": {},
   "outputs": [
    {
     "ename": "NameError",
     "evalue": "name 'response' is not defined",
     "output_type": "error",
     "traceback": [
      "\u001b[0;31m---------------------------------------------------------------------------\u001b[0m",
      "\u001b[0;31mNameError\u001b[0m                                 Traceback (most recent call last)",
      "Cell \u001b[0;32mIn[46], line 1\u001b[0m\n\u001b[0;32m----> 1\u001b[0m \u001b[43mresponse\u001b[49m\n",
      "\u001b[0;31mNameError\u001b[0m: name 'response' is not defined"
     ]
    }
   ],
   "source": [
    "response"
   ]
  },
  {
   "cell_type": "code",
   "execution_count": 30,
   "id": "c344170c-0643-4663-8956-120ac8852b92",
   "metadata": {},
   "outputs": [
    {
     "ename": "NameError",
     "evalue": "name 'response' is not defined",
     "output_type": "error",
     "traceback": [
      "\u001b[0;31m---------------------------------------------------------------------------\u001b[0m",
      "\u001b[0;31mNameError\u001b[0m                                 Traceback (most recent call last)",
      "Cell \u001b[0;32mIn[30], line 1\u001b[0m\n\u001b[0;32m----> 1\u001b[0m \u001b[43mresponse\u001b[49m\n",
      "\u001b[0;31mNameError\u001b[0m: name 'response' is not defined"
     ]
    }
   ],
   "source": [
    "response"
   ]
  },
  {
   "cell_type": "code",
   "execution_count": null,
   "id": "eb0907ad-f331-4fa3-a9c0-5edef4ac4c66",
   "metadata": {},
   "outputs": [],
   "source": []
  }
 ],
 "metadata": {
  "kernelspec": {
   "display_name": "Python 3 (ipykernel)",
   "language": "python",
   "name": "python3"
  },
  "language_info": {
   "codemirror_mode": {
    "name": "ipython",
    "version": 3
   },
   "file_extension": ".py",
   "mimetype": "text/x-python",
   "name": "python",
   "nbconvert_exporter": "python",
   "pygments_lexer": "ipython3",
   "version": "3.13.2"
  }
 },
 "nbformat": 4,
 "nbformat_minor": 5
}
